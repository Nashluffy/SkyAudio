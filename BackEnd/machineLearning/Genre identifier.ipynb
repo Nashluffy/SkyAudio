{
 "cells": [
  {
   "cell_type": "code",
   "execution_count": 2,
   "metadata": {},
   "outputs": [],
   "source": [
    "import librosa #python library for audio and music analysis\n",
    "import librosa.feature\n",
    "import librosa.display\n",
    "import glob #module that finds all the pathnames matching a specified pattern\n",
    "import numpy as np #fundamental packaging for scientific computing (linear algebra)\n",
    "import matplotlib.pyplot as plt #visualize the your audio\n",
    "import panda as pd # data processing, CSV file I/O (e.g. pd.read_csv)\n",
    "import tensorflow as tf"
   ]
  },
  {
   "cell_type": "markdown",
   "metadata": {},
   "source": [
    "# **Import all of your libraries for music genre identifier** \n",
    "\n",
    "* Keynotes:\n",
    "    * using the Million Song Data: genre classification dataset from Kaggle\n",
    "    * CSV -\n",
    "    \n",
    "\n"
   ]
  },
  {
   "cell_type": "code",
   "execution_count": null,
   "metadata": {},
   "outputs": [],
   "source": []
  }
 ],
 "metadata": {
  "kernelspec": {
   "display_name": "Python 3",
   "language": "python",
   "name": "python3"
  },
  "language_info": {
   "codemirror_mode": {
    "name": "ipython",
    "version": 3
   },
   "file_extension": ".py",
   "mimetype": "text/x-python",
   "name": "python",
   "nbconvert_exporter": "python",
   "pygments_lexer": "ipython3",
   "version": "3.7.1"
  }
 },
 "nbformat": 4,
 "nbformat_minor": 2
}
